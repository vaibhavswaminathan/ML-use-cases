{
 "cells": [
  {
   "cell_type": "code",
   "execution_count": 1,
   "metadata": {
    "_cell_guid": "b1076dfc-b9ad-4769-8c92-a6c4dae69d19",
    "_uuid": "8f2839f25d086af736a60e9eeb907d3b93b6e0e5"
   },
   "outputs": [],
   "source": [
    "# imports\n",
    "import numpy as np # linear algebra\n",
    "import pandas as pd # data processing, CSV file I/O (e.g. pd.read_csv)"
   ]
  },
  {
   "cell_type": "code",
   "execution_count": 2,
   "metadata": {},
   "source": [
    "# data load\n",
    "fires = pd.read_csv('../input/forest-forest-dataset/forestfires.csv')\n",
    "fires['areaclass'] = [0 if val==0.0 else 1 for val in fires['area']]\n",
    "fires.head()"
   ]
  },
  {
   "cell_type": "markdown",
   "metadata": {
    "_cell_guid": "79c7e3d0-c299-4dcb-8224-4455121ee9b0",
    "_uuid": "d629ff2d2480ee46fbb7e2d37f6b5fab8052498a",
    "collapsed": true
   },
   "source": [
    "## Questions to be answered:\n",
    "1. Find correlation between months and forest fire occurence?\n",
    "<br>*Done*\n",
    "2. Can we omit the day column?\n",
    "3. Perform statistical analysis of the variable count spilt between fire and non-fire area\n",
    "<br>*Not useful since range of each feature varies*\n",
    "4. Does multi-dimensional visualization of the columns provide any insight?\n",
    "<br>*PCA or Parallel Coordinates do not provide insight into classification between fire and non-fire areas*\n",
    "5. Can forest fire occurence be modelled using only [temp, rain, RH, area]?\n",
    "<br>*Done*"
   ]
  },
  {
   "cell_type": "markdown",
   "metadata": {},
   "source": [
    "### PCA "
   ]
  },
  {
   "cell_type": "code",
   "execution_count": null,
   "metadata": {},
   "outputs": [],
   "source": [
    "from sklearn.decomposition import PCA\n",
    "import matplotlib.pyplot as plt \n",
    "\n",
    "y = fires['areaclass']\n",
    "x = fires.drop(['areaclass','area','month','day','X','Y'],axis=1)\n",
    "\n",
    "xnorm = (x - x.min()/x.max()-x.min())\n",
    "\n",
    "# 2-dimensional PCA\n",
    "pca = PCA(n_components=2)\n",
    "trans = pd.DataFrame(pca.fit_transform(xnorm))\n",
    "\n",
    "plt.scatter(trans[y==0][0], trans[y==0][1], label='non-fire area', c='green')\n",
    "plt.scatter(trans[y==1][0], trans[y==1][1], label='fire area', c='blue')\n",
    "plt.legend()\n",
    "plt.show()"
   ]
  },
  {
   "cell_type": "code",
   "execution_count": null,
   "metadata": {},
   "outputs": [],
   "source": [
    "x.columns"
   ]
  },
  {
   "cell_type": "markdown",
   "metadata": {},
   "source": [
    "#### Features having the highest magnitude in the Principal Components "
   ]
  },
  {
   "cell_type": "code",
   "execution_count": null,
   "metadata": {},
   "outputs": [],
   "source": [
    "from sklearn.decomposition import PCA\n",
    "from sklearn.preprocessing import StandardScaler\n",
    "\n",
    "scaler = StandardScaler()\n",
    "scaler.fit(x)\n",
    "x = scaler.transform(x)\n",
    "\n",
    "pca = PCA()\n",
    "xnew = pca.fit_transform(x)\n",
    "\n",
    "def pcaPlot(score,coeff,labels=None):\n",
    "    xs = score[:,0]\n",
    "    ys = score[:,1]\n",
    "    n = coeff.shape[0]\n",
    "    scalex = 1.0/(xs.max() - xs.min())\n",
    "    scaley = 1.0/(ys.max() - ys.min())\n",
    "    plt.scatter(xs * scalex,ys * scaley, c = y)\n",
    "    for i in range(n):\n",
    "        plt.arrow(0, 0, coeff[i,0], coeff[i,1],color = 'r',alpha = 0.2)\n",
    "        if labels is None:\n",
    "            plt.text(coeff[i,0]* 1.15, coeff[i,1] * 1.15, \"Var\"+str(i+1), color = 'g', ha = 'center', va = 'center')\n",
    "        else:\n",
    "            plt.text(coeff[i,0]* 1.15, coeff[i,1] * 1.15, labels[i], color = 'g', ha = 'center', va = 'center')\n",
    "\n",
    "plt.xlim(-1,1)\n",
    "plt.ylim(-1,1)\n",
    "plt.xlabel(\"PC{}\".format(1))\n",
    "plt.ylabel(\"PC{}\".format(2))\n",
    "plt.grid()\n",
    "\n",
    "#Call the function. Use only the 2 PCs.\n",
    "pcaPlot(xnew[:,0:2],np.transpose(pca.components_[0:2, :]))\n",
    "plt.show()"
   ]
  },
  {
   "cell_type": "code",
   "execution_count": null,
   "metadata": {},
   "outputs": [],
   "source": [
    "pca.explained_variance_ratio_\n",
    "# print(abs( pca.components_ ))\n",
    "# np.transpose(pca.components_[0:2, :]).shape[0]"
   ]
  },
  {
   "cell_type": "markdown",
   "metadata": {},
   "source": [
    "Out of the 8 principal components, the first 4 account for close to 77% variability in the model. Therefore, let's try to fit a linear regresion model using the features contributing the most to the first 4 principal components."
   ]
  },
  {
   "cell_type": "code",
   "execution_count": null,
   "metadata": {},
   "outputs": [],
   "source": [
    "model = PCA(n_components=4).fit(x)\n",
    "X_pc = model.transform(x)\n",
    "\n",
    "# number of components\n",
    "n_pcs= model.components_.shape[0]\n",
    "\n",
    "# get the index of the most important feature on EACH component\n",
    "# LIST COMPREHENSION HERE\n",
    "most_important = [np.abs(model.components_[i]).argmax() for i in range(n_pcs)]\n",
    "\n",
    "initial_feature_names = ['FFMC','DMC','DC','ISI','temp','RH','wind','rain']\n",
    "# get the names\n",
    "most_important_names = [initial_feature_names[most_important[i]] for i in range(n_pcs)]\n",
    "\n",
    "# LIST COMPREHENSION HERE AGAIN\n",
    "dic = {'PC{}'.format(i): most_important_names[i] for i in range(n_pcs)}\n",
    "\n",
    "# build the dataframe\n",
    "df = pd.DataFrame(dic.items())"
   ]
  },
  {
   "cell_type": "code",
   "execution_count": null,
   "metadata": {},
   "outputs": [],
   "source": [
    "df"
   ]
  },
  {
   "cell_type": "markdown",
   "metadata": {},
   "source": [
    "For the first 4 principal components, the features having largest absolute coefficients in the projected axis are **temp**(PC1), **RH**(PC2), **wind**(PC3), **rain**(PC4)."
   ]
  },
  {
   "cell_type": "markdown",
   "metadata": {},
   "source": [
    "### Parallel Coordinates "
   ]
  },
  {
   "cell_type": "code",
   "execution_count": null,
   "metadata": {},
   "outputs": [],
   "source": [
    "from pandas.plotting import parallel_coordinates\n",
    "\n",
    "plotcols = ['temp','RH','wind','rain','FFMC','DMC','DC','ISI']\n",
    "data_norm = pd.concat([xnorm[plotcols],y],axis=1)\n",
    "parallel_coordinates(data_norm,'areaclass')\n",
    "plt.show()"
   ]
  },
  {
   "cell_type": "markdown",
   "metadata": {},
   "source": [
    "## Predicting forest fire scar area"
   ]
  },
  {
   "cell_type": "markdown",
   "metadata": {},
   "source": [
    "### Linear Regression "
   ]
  },
  {
   "cell_type": "code",
   "execution_count": null,
   "metadata": {},
   "outputs": [],
   "source": [
    "from sklearn.linear_model import LinearRegression\n",
    "from sklearn.preprocessing import LabelEncoder\n",
    "\n",
    "# considering only relevant columns\n",
    "linearcols = ['month','temp','RH','wind','rain','FFMC','DMC','DC','ISI']\n",
    "datafires = fires[linearcols]\n",
    "\n",
    "# label encoding for 'month' column\n",
    "le = LabelEncoder()\n",
    "xdata = datafires.apply(le.fit_transform)\n",
    "xreg = xdata"
   ]
  },
  {
   "cell_type": "code",
   "execution_count": null,
   "metadata": {},
   "outputs": [],
   "source": [
    "from sklearn.model_selection import train_test_split\n",
    "from sklearn.metrics import mean_squared_error, r2_score, accuracy_score, recall_score\n",
    "\n",
    "yreg = fires['area']\n",
    "\n",
    "xtrain, xtest, ytrain, ytest = train_test_split(xreg,yreg)\n",
    "\n",
    "#fittiing the model\n",
    "regressor = LinearRegression(fit_intercept=False)\n",
    "regressor.fit(xtrain,ytrain)\n",
    "yregpred = regressor.predict(xtest)\n",
    "\n",
    "#results\n",
    "print('Coefficient of determination r^2: %.2f' % r2_score(ytest,yregpred))\n",
    "print('RMSE: %.2f' % mean_squared_error(ytest,yregpred,squared=False))"
   ]
  },
  {
   "cell_type": "code",
   "execution_count": null,
   "metadata": {},
   "outputs": [],
   "source": [
    "lrresults = pd.DataFrame(yregpred,ytest)\n",
    "lrresults.reset_index()"
   ]
  },
  {
   "cell_type": "markdown",
   "metadata": {},
   "source": [
    "### Linear Regression using Polynomial Basis Functions "
   ]
  },
  {
   "cell_type": "code",
   "execution_count": null,
   "metadata": {},
   "outputs": [],
   "source": [
    "from sklearn.preprocessing import PolynomialFeatures\n",
    "from sklearn.pipeline import make_pipeline\n",
    "\n",
    "poly_model = make_pipeline(PolynomialFeatures(5),LinearRegression())\n",
    "poly_model.fit(xtrain,ytrain)\n",
    "ypolyfit = poly_model.predict(xtest)\n",
    "\n",
    "plt.plot(xtest,ypolyfit)"
   ]
  },
  {
   "cell_type": "markdown",
   "metadata": {},
   "source": [
    "### Linear Regression with log(forest_fire_area)  "
   ]
  },
  {
   "cell_type": "code",
   "execution_count": null,
   "metadata": {},
   "outputs": [],
   "source": [
    "fires['logarea'] = np.log10(fires['area'])\n",
    "fires.replace([np.inf,-np.inf],0.0,inplace=True)\n",
    "\n",
    "ylog = fires['logarea']\n",
    "xlog = xdata\n",
    "\n",
    "xltrain,xltest,yltrain,yltest = train_test_split(xlog,ylog)\n",
    "logregressor = LinearRegression()\n",
    "logregressor.fit(xltrain,yltrain)\n",
    "ylogpred = logregressor.predict(xltest)\n",
    "\n",
    "#results\n",
    "print('Coefficient of determination r^2: %.2f' % r2_score(yltest,ylogpred))\n",
    "print('RMSE: %.2f' % mean_squared_error(yltest,ylogpred,squared=False))"
   ]
  },
  {
   "cell_type": "markdown",
   "metadata": {},
   "source": [
    "### Linear Regression using columns *temp, RH, wind, rain* to predict log(forest_fire_area)"
   ]
  },
  {
   "cell_type": "code",
   "execution_count": null,
   "metadata": {},
   "outputs": [],
   "source": [
    "pcacols = ['temp','RH','wind','rain']\n",
    "datax = fires[pcacols]\n",
    "datay = fires['logarea']\n",
    "\n",
    "pcaxtrain, pcaxtest, pcaytrain, pcaytest = train_test_split(datax,datay)\n",
    "pcaregressor = LinearRegression()\n",
    "pcaregressor.fit(pcaxtrain,pcaytrain)\n",
    "pcaypred = pcaregressor.predict(pcaxtest)\n",
    "\n",
    "#results\n",
    "print('Coefficient of determination r^2: %.2f' % r2_score(pcaytest,pcaypred))\n",
    "print('RMSE: %.2f' % mean_squared_error(pcaytest,pcaypred,squared=False))"
   ]
  },
  {
   "cell_type": "code",
   "execution_count": null,
   "metadata": {},
   "outputs": [],
   "source": [
    "print('Coefficients: \\n',pcaregressor.coef_)\n",
    "print('Intercept: \\n',pcaregressor.intercept_)"
   ]
  },
  {
   "cell_type": "markdown",
   "metadata": {},
   "source": [
    "### Multidimensional Visualization with *temp, RH* features"
   ]
  },
  {
   "cell_type": "code",
   "execution_count": null,
   "metadata": {},
   "outputs": [],
   "source": [
    "cols = ['temp','RH']\n",
    "X = fires[cols].values.reshape(-1,2)\n",
    "Y = fires['logarea']\n",
    "xvtrain,xvtest,yvtrain,yvtest = train_test_split(X,Y)\n",
    "\n",
    "x = xvtrain[:,0]\n",
    "y = xvtrain[:,1]\n",
    "z = yvtrain\n",
    "\n",
    "xx_pred, yy_pred = np.meshgrid(xvtest[:,0], xvtest[:,1])\n",
    "model_viz = np.array([xx_pred.flatten(), yy_pred.flatten()]).T\n",
    "\n",
    "ols = LinearRegression()\n",
    "model = ols.fit(xvtrain, yvtrain)\n",
    "predicted = model.predict(model_viz)\n",
    "\n",
    "# model evaluation\n",
    "r2 = model.score(xvtrain, yvtrain)\n",
    "\n",
    "# plot\n",
    "plt.style.use('default')\n",
    "\n",
    "fig = plt.figure(figsize=(12, 4))\n",
    "\n",
    "ax1 = fig.add_subplot(131, projection='3d')\n",
    "ax2 = fig.add_subplot(132, projection='3d')\n",
    "ax3 = fig.add_subplot(133, projection='3d')\n",
    "\n",
    "axes = [ax1, ax2, ax3]\n",
    "\n",
    "for ax in axes:\n",
    "    ax.plot(x, y, z, color='k', zorder=15, linestyle='none', marker='o', alpha=0.5)\n",
    "    ax.scatter(xx_pred.flatten(), yy_pred.flatten(), predicted, facecolor=(0,0,0,0), s=20, edgecolor='#70b3f0')\n",
    "    ax.set_xlabel('Temperature', fontsize=12)\n",
    "    ax.set_ylabel('Relative Humidity', fontsize=12)\n",
    "    ax.set_zlabel('log(forest fire area)', fontsize=12)\n",
    "    ax.locator_params(nbins=4, axis='x')\n",
    "    ax.locator_params(nbins=5, axis='x')\n",
    "\n",
    "ax1.view_init(elev=28, azim=120)\n",
    "ax2.view_init(elev=4, azim=114)\n",
    "ax3.view_init(elev=60, azim=165)\n",
    "\n",
    "fig.suptitle('$R^2 = %.2f$' % r2, fontsize=20)\n",
    "fig.tight_layout()"
   ]
  },
  {
   "cell_type": "markdown",
   "metadata": {},
   "source": [
    "### Conclusion \n",
    "Using only *temp, RH* features to model the data is not efficient, as it captures only 50% of variability in the data. Thus, *linear regression* is unable to capture the potentially non-linear relationship between the features and the forest fire area.\n",
    "\n",
    "Also, *temp* and *RH* are inversely correlated (refer correlation matrix below). Hence, this may be a cause for collinearity which may suggest poor performance of the model with *temp, RH* predicting the forest fire area."
   ]
  },
  {
   "cell_type": "markdown",
   "metadata": {},
   "source": [
    "#### Correlation Matrix"
   ]
  },
  {
   "cell_type": "code",
   "execution_count": null,
   "metadata": {},
   "outputs": [],
   "source": [
    "import seaborn as sns\n",
    "\n",
    "df = fires.iloc[:,4:-3]\n",
    "corr = df.corr(method='spearman')\n",
    "\n",
    "# Generate a mask for the upper triangle\n",
    "mask = np.zeros_like(corr, dtype=np.bool)\n",
    "mask[np.triu_indices_from(mask)] = True\n",
    "\n",
    "# Set up the matplotlib figure\n",
    "fig, ax = plt.subplots(figsize=(6, 5))\n",
    "\n",
    "# Generate a custom diverging colormap\n",
    "cmap = sns.diverging_palette(220, 10, as_cmap=True, sep=100)\n",
    "\n",
    "# Draw the heatmap with the mask and correct aspect ratio\n",
    "sns.heatmap(corr, mask=mask, cmap=cmap, vmin=-1, vmax=1, center=0, linewidths=.5)\n",
    "\n",
    "fig.suptitle('Correlation matrix of features', fontsize=10)\n",
    "fig.tight_layout()"
   ]
  }
 ],
 "metadata": {
  "kernelspec": {
   "display_name": "Python 3",
   "language": "python",
   "name": "python3"
  },
  "language_info": {
   "codemirror_mode": {
    "name": "ipython",
    "version": 3
   },
   "file_extension": ".py",
   "mimetype": "text/x-python",
   "name": "python",
   "nbconvert_exporter": "python",
   "pygments_lexer": "ipython3",
   "version": "3.8.3"
  }
 },
 "nbformat": 4,
 "nbformat_minor": 4
}
